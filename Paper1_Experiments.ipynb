{
  "nbformat": 4,
  "nbformat_minor": 0,
  "metadata": {
    "colab": {
      "name": "Paper1_Experiments.ipynb",
      "provenance": [],
      "collapsed_sections": [],
      "authorship_tag": "ABX9TyOVSHc2No64jiEqTrfduEmG",
      "include_colab_link": true
    },
    "kernelspec": {
      "name": "python3",
      "display_name": "Python 3"
    },
    "language_info": {
      "name": "python"
    }
  },
  "cells": [
    {
      "cell_type": "markdown",
      "metadata": {
        "id": "view-in-github",
        "colab_type": "text"
      },
      "source": [
        "<a href=\"https://colab.research.google.com/github/shazoop/KG-Embeddings/blob/main/Paper1_Experiments.ipynb\" target=\"_parent\"><img src=\"https://colab.research.google.com/assets/colab-badge.svg\" alt=\"Open In Colab\"/></a>"
      ]
    },
    {
      "cell_type": "code",
      "execution_count": 11,
      "metadata": {
        "id": "44kbRWpxKHb-"
      },
      "outputs": [],
      "source": [
        "import torch\n",
        "import numpy as np\n",
        "import random as rand"
      ]
    },
    {
      "cell_type": "code",
      "source": [
        "def vertex_code(dim, num):\n",
        "  codebook = np.zeros((num,dim))\n",
        "  for i in range(num):\n",
        "    code = np.random.multivariate_normal(np.zeros(dim),np.eye(dim))\n",
        "    code = code/np.linalg.norm(code)\n",
        "    codebook[i] = code\n",
        "  return(codebook)"
      ],
      "metadata": {
        "id": "SehtpJeGKJ7E"
      },
      "execution_count": 2,
      "outputs": []
    },
    {
      "cell_type": "code",
      "source": [
        "A = vertex_code(4,3)"
      ],
      "metadata": {
        "id": "hMifWnFGQnKl"
      },
      "execution_count": 3,
      "outputs": []
    },
    {
      "cell_type": "code",
      "source": [
        "A"
      ],
      "metadata": {
        "colab": {
          "base_uri": "https://localhost:8080/"
        },
        "id": "xFUCdnXPQpYl",
        "outputId": "d8cdef18-317c-441e-ea83-61c23fb64ff2"
      },
      "execution_count": 4,
      "outputs": [
        {
          "output_type": "execute_result",
          "data": {
            "text/plain": [
              "array([[-0.17241161,  0.16324207, -0.79094164,  0.5639482 ],\n",
              "       [-0.28891552,  0.56220736,  0.5270272 , -0.56806077],\n",
              "       [-0.42881342, -0.12753136, -0.88351473,  0.13876786]])"
            ]
          },
          "metadata": {},
          "execution_count": 4
        }
      ]
    },
    {
      "cell_type": "code",
      "source": [
        "dim = 16\n",
        "num = 64\n",
        "\n",
        "codebook = vertex_code(dim,num)\n",
        "\n",
        "special_code = vertex_code(dim,2)\n",
        "\n",
        "edge_code = vertex_code(dim,3)"
      ],
      "metadata": {
        "id": "LG9liJXDQt9W"
      },
      "execution_count": 47,
      "outputs": []
    },
    {
      "cell_type": "code",
      "source": [
        "def generate_graph(codebook, num_edges):\n",
        "  n,d = codebook.shape[0], codebook.shape[1]\n",
        "  graph = 0\n",
        "  for i in range(num_edges):\n",
        "    d_ix, c_ix = rand.randint(0,n-1), rand.randint(0,n-1)\n",
        "    dom, cod = codebook[d_ix], codebook[c_ix]\n",
        "    graph  = graph + np.einsum('i,j -> ij', dom, cod)\n",
        "  return(graph)\n"
      ],
      "metadata": {
        "id": "Kw5sA9xvRAoV"
      },
      "execution_count": 28,
      "outputs": []
    },
    {
      "cell_type": "code",
      "source": [
        "def generate_edge(special_code):\n",
        "  edge = np.einsum('i,j -> ij', special_code[0], special_code[1])\n",
        "  return(edge)"
      ],
      "metadata": {
        "id": "xP1zQxqnSYbU"
      },
      "execution_count": 29,
      "outputs": []
    },
    {
      "cell_type": "code",
      "source": [
        "def correct_edgeQ(codebook, special_code, num_edges, num_trials):\n",
        "  avg_score = 0\n",
        "  for step in range(num_trials):\n",
        "    curr_graph = generate_graph(codebook,num_edges) + generate_edge(special_code)\n",
        "    edgeQ = np.einsum('i,ij,j ->',special_code[0],curr_graph, special_code[1])\n",
        "    avg_score = avg_score + edgeQ\n",
        "  avg_score = avg_score/num_trials\n",
        "  return(avg_score)"
      ],
      "metadata": {
        "id": "kEgqDn_GRcWX"
      },
      "execution_count": 34,
      "outputs": []
    },
    {
      "cell_type": "code",
      "source": [
        "correct_edgeQ(codebook, special_code, 24, 100)"
      ],
      "metadata": {
        "colab": {
          "base_uri": "https://localhost:8080/"
        },
        "id": "ujVTCQTKUgA1",
        "outputId": "c8d37f56-9c55-4dad-cf87-8b9729f1ff74"
      },
      "execution_count": 35,
      "outputs": [
        {
          "output_type": "execute_result",
          "data": {
            "text/plain": [
              "1.0137894949283066"
            ]
          },
          "metadata": {},
          "execution_count": 35
        }
      ]
    },
    {
      "cell_type": "code",
      "source": [
        "def incorrect_edgeQ(codebook, special_code, num_edges, num_trials):\n",
        "  avg_score = 0\n",
        "  for step in range(num_trials):\n",
        "    curr_graph = generate_graph(codebook,num_edges)\n",
        "    edgeQ = np.einsum('i,ij,j ->',special_code[0],curr_graph, special_code[1])\n",
        "    avg_score = avg_score + edgeQ\n",
        "  avg_score = avg_score/num_trials\n",
        "  return(avg_score)"
      ],
      "metadata": {
        "id": "_0jppiGkUmwU"
      },
      "execution_count": 36,
      "outputs": []
    },
    {
      "cell_type": "code",
      "source": [
        "incorrect_edgeQ(codebook, special_code, 24, 100)"
      ],
      "metadata": {
        "colab": {
          "base_uri": "https://localhost:8080/"
        },
        "id": "2BGldtjOU2tS",
        "outputId": "f07e035e-0cda-4984-8a05-32fad438bf8e"
      },
      "execution_count": 37,
      "outputs": [
        {
          "output_type": "execute_result",
          "data": {
            "text/plain": [
              "0.0486243619423517"
            ]
          },
          "metadata": {},
          "execution_count": 37
        }
      ]
    },
    {
      "cell_type": "code",
      "source": [
        "def edge_composition(graph1,graph2):\n",
        "  composed_graph = np.einsum('ij,jk -> ik',graph1,graph2)\n",
        "  return(composed_graph)\n",
        "\n",
        "def correct_compQ(codebook, edge_code, num_edges, num_trials):\n",
        "  avg_score = 0\n",
        "  for step in range(num_trials):\n",
        "    curr_graph = generate_graph(codebook,num_edges) + generate_edge(edge_code[:2]) + generate_edge(edge_code[1:3])\n",
        "    curr_graph = edge_composition(curr_graph,curr_graph)\n",
        "    edgeQ = np.einsum('i,ij,j ->',edge_code[0],curr_graph, edge_code[2])\n",
        "    avg_score = avg_score + edgeQ\n",
        "  avg_score = avg_score/num_trials\n",
        "  return(avg_score)\n",
        "\n",
        "def incorrect_compQ(codebook, edge_code, num_edges, num_trials):\n",
        "  avg_score = 0\n",
        "  for step in range(num_trials):\n",
        "    curr_graph = generate_graph(codebook,num_edges)\n",
        "    curr_graph = edge_composition(curr_graph,curr_graph)\n",
        "    edgeQ = np.einsum('i,ij,j ->',edge_code[0],curr_graph, edge_code[2])\n",
        "    avg_score = avg_score + edgeQ\n",
        "  avg_score = avg_score/num_trials\n",
        "  return(avg_score)"
      ],
      "metadata": {
        "id": "JCCp5c9NWCLM"
      },
      "execution_count": 58,
      "outputs": []
    },
    {
      "cell_type": "code",
      "source": [
        "correct_compQ(codebook, edge_code, 24, 100)"
      ],
      "metadata": {
        "colab": {
          "base_uri": "https://localhost:8080/"
        },
        "id": "hCWlDynNmpMT",
        "outputId": "b1ca5acd-141e-4594-df99-a6a08382821d"
      },
      "execution_count": 59,
      "outputs": [
        {
          "output_type": "execute_result",
          "data": {
            "text/plain": [
              "0.9871014058820269"
            ]
          },
          "metadata": {},
          "execution_count": 59
        }
      ]
    },
    {
      "cell_type": "code",
      "source": [
        "incorrect_compQ(codebook, edge_code, 24, 100)"
      ],
      "metadata": {
        "colab": {
          "base_uri": "https://localhost:8080/"
        },
        "id": "id3UP2c0mtnK",
        "outputId": "46cb074c-cae4-41f1-f3d4-7988a2b71b31"
      },
      "execution_count": 60,
      "outputs": [
        {
          "output_type": "execute_result",
          "data": {
            "text/plain": [
              "0.019038423304525837"
            ]
          },
          "metadata": {},
          "execution_count": 60
        }
      ]
    },
    {
      "cell_type": "code",
      "source": [
        "import matplotlib.pyplot as plt\n",
        "import math"
      ],
      "metadata": {
        "id": "aZKcsKF9m-pS"
      },
      "execution_count": 113,
      "outputs": []
    },
    {
      "cell_type": "code",
      "source": [
        "def testing(vertex_dim, vertex_num, edge_list, num_trials):\n",
        "  codebook = vertex_code(vertex_dim,vertex_num)\n",
        "  special_code = vertex_code(vertex_dim,2)\n",
        "  edge_code = vertex_code(vertex_dim,3)\n",
        "  cor_edgeQ = []\n",
        "  incor_edgeQ = []\n",
        "  cor_compQ = []\n",
        "  incor_compQ = []\n",
        "  for num_edge in edge_list:\n",
        "    cor_edgeQ.append(abs(correct_edgeQ(codebook, special_code, num_edge, num_trials)-1))\n",
        "    incor_edgeQ.append(abs(incorrect_edgeQ(codebook, special_code, num_edge, num_trials)))\n",
        "    cor_compQ.append(abs(correct_compQ(codebook, edge_code, num_edge, num_trials)-1))\n",
        "    incor_compQ.append(abs(incorrect_compQ(codebook, edge_code, num_edge, num_trials)))\n",
        "  return cor_edgeQ, incor_edgeQ, cor_compQ, incor_compQ"
      ],
      "metadata": {
        "id": "7Mf5bDXGovvZ"
      },
      "execution_count": 115,
      "outputs": []
    },
    {
      "cell_type": "code",
      "source": [
        "edge_list = [8,16,24,32,48,64,80,128,240,400,560,800]"
      ],
      "metadata": {
        "id": "eSJGq0NTntID"
      },
      "execution_count": 116,
      "outputs": []
    },
    {
      "cell_type": "code",
      "source": [
        "vertex_dim = 16\n",
        "vertex_num = 64\n",
        "num_trials = 500"
      ],
      "metadata": {
        "id": "3A260AcKqBhh"
      },
      "execution_count": 117,
      "outputs": []
    },
    {
      "cell_type": "code",
      "source": [
        "cor_edgeQ, incor_edgeQ, cor_compQ, incor_compQ = testing(vertex_dim, vertex_num, edge_list, num_trials)"
      ],
      "metadata": {
        "id": "Ot-Y0gdZqJwC"
      },
      "execution_count": 118,
      "outputs": []
    },
    {
      "cell_type": "code",
      "source": [
        "cor_edgeQ"
      ],
      "metadata": {
        "colab": {
          "base_uri": "https://localhost:8080/"
        },
        "id": "A7Qp35VWqRXN",
        "outputId": "4b79bcc8-3d2b-4d41-8f9d-c2be66f4f384"
      },
      "execution_count": 119,
      "outputs": [
        {
          "output_type": "execute_result",
          "data": {
            "text/plain": [
              "[0.003444488778152399,\n",
              " 0.009955147168230871,\n",
              " 0.0019778958365177512,\n",
              " 0.02503830838711274,\n",
              " 0.025927039081875325,\n",
              " 0.04367127455383024,\n",
              " 0.025426160709529744,\n",
              " 0.008155876551620533,\n",
              " 0.04930407189080199,\n",
              " 0.07100027884224469,\n",
              " 0.18871891458328416,\n",
              " 0.22796305695349472]"
            ]
          },
          "metadata": {},
          "execution_count": 119
        }
      ]
    },
    {
      "cell_type": "code",
      "source": [
        "incor_edgeQ"
      ],
      "metadata": {
        "colab": {
          "base_uri": "https://localhost:8080/"
        },
        "id": "x0o7JxuFqbBp",
        "outputId": "e3f066e3-c05b-4d9c-b9b0-eacd0764d3ed"
      },
      "execution_count": 120,
      "outputs": [
        {
          "output_type": "execute_result",
          "data": {
            "text/plain": [
              "[0.009530579315945654,\n",
              " 0.010442829070172032,\n",
              " 0.011070775604820334,\n",
              " 0.013441744166278836,\n",
              " 0.010504865256810077,\n",
              " 0.025915520114596233,\n",
              " 0.024833704447932203,\n",
              " 0.0413088023716839,\n",
              " 0.061011223568658006,\n",
              " 0.13555413301416988,\n",
              " 0.22098872158302896,\n",
              " 0.14260617480002447]"
            ]
          },
          "metadata": {},
          "execution_count": 120
        }
      ]
    },
    {
      "cell_type": "code",
      "source": [
        "plt.plot(edge_list,cor_edgeQ, marker = 'o')\n",
        "plt.axhline(y=1, color='r', linestyle='-')\n",
        "plt.show()"
      ],
      "metadata": {
        "colab": {
          "base_uri": "https://localhost:8080/",
          "height": 265
        },
        "id": "fSEUxVEfq_aa",
        "outputId": "daf04a6d-4e5d-4b6f-ca71-769a06dc1861"
      },
      "execution_count": 126,
      "outputs": [
        {
          "output_type": "display_data",
          "data": {
            "text/plain": [
              "<Figure size 432x288 with 1 Axes>"
            ],
            "image/png": "[encoded data removed]"
          },
          "metadata": {
            "needs_background": "light"
          }
        }
      ]
    },
    {
      "cell_type": "code",
      "source": [
        "plt.plot(edge_list,incor_edgeQ, marker = 'o')\n",
        "plt.axhline(y=1, color='r', linestyle='-')\n",
        "plt.show()"
      ],
      "metadata": {
        "colab": {
          "base_uri": "https://localhost:8080/",
          "height": 265
        },
        "id": "jBjGcYbErjpk",
        "outputId": "ce38e1f8-767a-41fe-ef55-7c030e510ea8"
      },
      "execution_count": 129,
      "outputs": [
        {
          "output_type": "display_data",
          "data": {
            "text/plain": [
              "<Figure size 432x288 with 1 Axes>"
            ],
            "image/png": "[encoded data removed]"
          },
          "metadata": {
            "needs_background": "light"
          }
        }
      ]
    },
    {
      "cell_type": "code",
      "source": [
        "plt.plot(edge_list,cor_compQ, marker = 'o')\n",
        "plt.axhline(y=1, color='r', linestyle='-')\n",
        "plt.show()"
      ],
      "metadata": {
        "colab": {
          "base_uri": "https://localhost:8080/",
          "height": 265
        },
        "id": "ykRXEQYzsO6F",
        "outputId": "2f29fad4-ce62-4161-b255-f74aa06a1fdb"
      },
      "execution_count": 128,
      "outputs": [
        {
          "output_type": "display_data",
          "data": {
            "text/plain": [
              "<Figure size 432x288 with 1 Axes>"
            ],
            "image/png": "[encoded data removed]"
          },
          "metadata": {
            "needs_background": "light"
          }
        }
      ]
    },
    {
      "cell_type": "code",
      "source": [
        "plt.plot(edge_list,incor_compQ, marker = 'o')\n",
        "plt.axhline(y=1, color='r', linestyle='-')\n",
        "plt.show()"
      ],
      "metadata": {
        "colab": {
          "base_uri": "https://localhost:8080/",
          "height": 265
        },
        "id": "Y69S_qmbsWnd",
        "outputId": "ec433608-d622-4b05-aa93-c70066e4860f"
      },
      "execution_count": 127,
      "outputs": [
        {
          "output_type": "display_data",
          "data": {
            "text/plain": [
              "<Figure size 432x288 with 1 Axes>"
            ],
            "image/png": "[encoded data removed]"
          },
          "metadata": {
            "needs_background": "light"
          }
        }
      ]
    },
    {
      "cell_type": "code",
      "source": [
        ""
      ],
      "metadata": {
        "id": "lcn1UnU6s8eU"
      },
      "execution_count": null,
      "outputs": []
    }
  ]
}