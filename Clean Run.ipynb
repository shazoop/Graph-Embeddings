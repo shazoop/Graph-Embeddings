{
 "cells": [
  {
   "cell_type": "code",
   "execution_count": 25,
   "id": "3bc5100a",
   "metadata": {},
   "outputs": [],
   "source": [
    "# from embedding_torch import *\n",
    "import embedding_torch as et\n",
    "import data_loader as dl\n",
    "# from data_loader import *\n",
    "import numpy as np\n",
    "import torch\n",
    "import importlib"
   ]
  },
  {
   "cell_type": "code",
   "execution_count": 2,
   "id": "c5c08f69",
   "metadata": {},
   "outputs": [],
   "source": [
    "#Set path and device\n",
    "path = '/home/shazoop/KG-Embeddings/datasets/FB15K-237'\n",
    "device = torch.device(0)"
   ]
  },
  {
   "cell_type": "code",
   "execution_count": 3,
   "id": "9f757518",
   "metadata": {},
   "outputs": [],
   "source": [
    "#Parameters\n",
    "D_ent = 80\n",
    "D_rel = 80\n",
    "max_edges = 30\n",
    "edge_filter = True\n",
    "rel_tensor = False"
   ]
  },
  {
   "cell_type": "code",
   "execution_count": 4,
   "id": "e3087190",
   "metadata": {},
   "outputs": [],
   "source": [
    "embeddings, ent_id, rel_id, ent_code, rel_code, edge_set = dl.easy_embeddings(path, 'train.txt', D_ent, D_rel, rel_tensor, edge_filter, max_edges)"
   ]
  },
  {
   "cell_type": "code",
   "execution_count": 37,
   "id": "024869a6",
   "metadata": {
    "scrolled": true
   },
   "outputs": [],
   "source": [
    "nbd_embeddings, ent_embeddings, rel_embeddings = et.embed_to_device(embeddings, ent_code, rel_code, device)"
   ]
  },
  {
   "cell_type": "code",
   "execution_count": 38,
   "id": "79685fb8",
   "metadata": {},
   "outputs": [],
   "source": [
    "edge = list(edge_set['test.txt'])[600]"
   ]
  },
  {
   "cell_type": "code",
   "execution_count": 57,
   "id": "ccb7fe2d",
   "metadata": {},
   "outputs": [
    {
     "data": {
      "text/plain": [
       "<module 'embedding_torch' from '/home/shazoop/KG-Embeddings/embedding_torch.py'>"
      ]
     },
     "execution_count": 57,
     "metadata": {},
     "output_type": "execute_result"
    }
   ],
   "source": [
    "importlib.reload(et)"
   ]
  },
  {
   "cell_type": "code",
   "execution_count": 55,
   "id": "3ed07425",
   "metadata": {},
   "outputs": [
    {
     "data": {
      "text/plain": [
       "(tensor(2.5029),\n",
       " tensor([1.6683, 0.9999, 0.9964, 0.9786, 0.9504, 0.9145, 0.8684, 0.8062, 0.7874,\n",
       "         0.7825], device='cuda:0', dtype=torch.float64),\n",
       " tensor([ 0.1882,  0.2698,  0.3319,  0.9041, -0.7362,  0.7443, -0.0692, -0.2096,\n",
       "          1.4181]),\n",
       " 1.9745584873530815)"
      ]
     },
     "execution_count": 55,
     "metadata": {},
     "output_type": "execute_result"
    }
   ],
   "source": [
    "et.tch_score(edge,ent_embeddings, rel_embeddings, nbd_embeddings, ent_id, rel_id, 10, rel_tensor= False)"
   ]
  },
  {
   "cell_type": "code",
   "execution_count": null,
   "id": "b4931085",
   "metadata": {},
   "outputs": [],
   "source": [
    "et.test(50, ent_embeddings, rel_embeddings, nbd_embeddings, ent_id, rel_id, 10, edge_set, rel_tensor)"
   ]
  },
  {
   "cell_type": "code",
   "execution_count": null,
   "id": "8afaa586",
   "metadata": {},
   "outputs": [],
   "source": []
  }
 ],
 "metadata": {
  "kernelspec": {
   "display_name": "Python 3",
   "language": "python",
   "name": "python3"
  },
  "language_info": {
   "codemirror_mode": {
    "name": "ipython",
    "version": 3
   },
   "file_extension": ".py",
   "mimetype": "text/x-python",
   "name": "python",
   "nbconvert_exporter": "python",
   "pygments_lexer": "ipython3",
   "version": "3.8.8"
  }
 },
 "nbformat": 4,
 "nbformat_minor": 5
}
