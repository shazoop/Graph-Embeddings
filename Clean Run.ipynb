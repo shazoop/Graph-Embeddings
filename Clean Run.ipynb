{
 "cells": [
  {
   "cell_type": "code",
   "execution_count": 1,
   "id": "9212910c",
   "metadata": {},
   "outputs": [],
   "source": [
    "# from embedding_torch import *\n",
    "import embedding_torch as et\n",
    "import data_loader as dl\n",
    "# from data_loader import *\n",
    "import numpy as np\n",
    "import torch\n",
    "import importlib"
   ]
  },
  {
   "cell_type": "code",
   "execution_count": 2,
   "id": "4d9f0710",
   "metadata": {},
   "outputs": [],
   "source": [
    "#Set path and device\n",
    "path = '/home/shazoop/KG-Embeddings/datasets/FB15K-237'\n",
    "device = torch.device(0)"
   ]
  },
  {
   "cell_type": "code",
   "execution_count": 3,
   "id": "c50db4be",
   "metadata": {},
   "outputs": [],
   "source": [
    "#Parameters\n",
    "D_ent = 80\n",
    "D_rel = 80\n",
    "max_edges = 30\n",
    "edge_filter = True\n",
    "rel_tensor = False"
   ]
  },
  {
   "cell_type": "code",
   "execution_count": 4,
   "id": "5dffbb27",
   "metadata": {},
   "outputs": [],
   "source": [
    "embeddings, ent_id, rel_id, ent_code, rel_code, edge_set = dl.easy_embeddings(path, 'train.txt', D_ent, D_rel, rel_tensor, edge_filter, max_edges)"
   ]
  },
  {
   "cell_type": "code",
   "execution_count": 129,
   "id": "9febc1d9",
   "metadata": {},
   "outputs": [
    {
     "data": {
      "text/plain": [
       "9056"
      ]
     },
     "execution_count": 129,
     "metadata": {},
     "output_type": "execute_result"
    }
   ],
   "source": [
    "len(ent_embeddings)"
   ]
  },
  {
   "cell_type": "code",
   "execution_count": 5,
   "id": "714db54f",
   "metadata": {
    "scrolled": true
   },
   "outputs": [
    {
     "name": "stderr",
     "output_type": "stream",
     "text": [
      "/home/shazoop/anaconda3/lib/python3.8/site-packages/torch/cuda/__init__.py:83: UserWarning: \n",
      "    Found GPU%d %s which is of cuda capability %d.%d.\n",
      "    PyTorch no longer supports this GPU because it is too old.\n",
      "    The minimum cuda capability supported by this library is %d.%d.\n",
      "    \n",
      "  warnings.warn(old_gpu_warn.format(d, name, major, minor, min_arch // 10, min_arch % 10))\n"
     ]
    }
   ],
   "source": [
    "nbd_embeddings, ent_embeddings, rel_embeddings = et.embed_to_device(embeddings, ent_code, rel_code, device)"
   ]
  },
  {
   "cell_type": "code",
   "execution_count": 41,
   "id": "10654cbe",
   "metadata": {},
   "outputs": [],
   "source": [
    "edge = list(edge_set['test.txt'])[250]"
   ]
  },
  {
   "cell_type": "code",
   "execution_count": 16,
   "id": "c02b2040",
   "metadata": {},
   "outputs": [
    {
     "data": {
      "text/plain": [
       "(tensor(0.9902),\n",
       " tensor([1.0051, 0.6515, 0.6075, 0.5554, 0.5325, 0.5318, 0.5287, 0.5222, 0.5178,\n",
       "         0.4969, 0.4864], device='cuda:0', dtype=torch.float64),\n",
       " tensor([ 0.1662,  0.5546, -0.7035,  1.8814,  2.3595,  1.1413,  2.4405, -0.4100,\n",
       "          2.4572,  0.2042]),\n",
       " 12.92403312343793)"
      ]
     },
     "execution_count": 16,
     "metadata": {},
     "output_type": "execute_result"
    }
   ],
   "source": [
    "et.tch_score(edge,ent_embeddings, rel_embeddings, nbd_embeddings, ent_id, rel_id, 10, rel_tensor= False)"
   ]
  },
  {
   "cell_type": "code",
   "execution_count": 20,
   "id": "1468e834",
   "metadata": {},
   "outputs": [
    {
     "data": {
      "text/plain": [
       "tensor(1., device='cuda:0', dtype=torch.float64)"
      ]
     },
     "execution_count": 20,
     "metadata": {},
     "output_type": "execute_result"
    }
   ],
   "source": [
    "torch.linalg.norm(ent_embeddings[56])"
   ]
  },
  {
   "cell_type": "code",
   "execution_count": 135,
   "id": "37ef31f7",
   "metadata": {},
   "outputs": [],
   "source": [
    "head, relation ,tail = edge[0], edge[1], edge[2]\n",
    "head_ix, tail_ix, relation_ix = ent_id[head], ent_id[tail], rel_id[relation]\n",
    "head_embed, tail_embed, rel_embed = ent_embeddings[head_ix], ent_embeddings[tail_ix], rel_embeddings[relation_ix]\n",
    "head_nbd = nbd_embeddings[head_ix]\n",
    "nbd_embed_norel = nbd_embeddings"
   ]
  },
  {
   "cell_type": "code",
   "execution_count": 139,
   "id": "8a8bf1e3",
   "metadata": {},
   "outputs": [],
   "source": [
    "(val,ix) = torch.topk(coeff,10)\n"
   ]
  },
  {
   "cell_type": "code",
   "execution_count": 105,
   "id": "6b825558",
   "metadata": {},
   "outputs": [
    {
     "data": {
      "text/plain": [
       "tensor([0.2185, 0.1027, 0.0886, 0.0883, 0.0881, 0.0876, 0.0824, 0.0817, 0.0815,\n",
       "        0.0806], device='cuda:0', dtype=torch.float64)"
      ]
     },
     "execution_count": 105,
     "metadata": {},
     "output_type": "execute_result"
    }
   ],
   "source": [
    "torch.nn.functional.softmax(b, dim = 0)"
   ]
  },
  {
   "cell_type": "code",
   "execution_count": 97,
   "id": "124ecd03",
   "metadata": {},
   "outputs": [
    {
     "data": {
      "text/plain": [
       "0.26736674023171264"
      ]
     },
     "execution_count": 97,
     "metadata": {},
     "output_type": "execute_result"
    }
   ],
   "source": [
    "et.test(50, ent_embeddings, rel_embeddings, nbd_embeddings, ent_id, rel_id, 10, edge_set,rel_tensor)"
   ]
  },
  {
   "cell_type": "code",
   "execution_count": 31,
   "id": "ce7dfd1d",
   "metadata": {},
   "outputs": [
    {
     "data": {
      "text/plain": [
       "<module 'embedding_torch' from '/home/shazoop/KG-Embeddings/embedding_torch.py'>"
      ]
     },
     "execution_count": 31,
     "metadata": {},
     "output_type": "execute_result"
    }
   ],
   "source": [
    "importlib.reload(et)"
   ]
  },
  {
   "cell_type": "code",
   "execution_count": 18,
   "id": "c285f0c4",
   "metadata": {},
   "outputs": [],
   "source": [
    "num_batch = 100"
   ]
  },
  {
   "cell_type": "code",
   "execution_count": 19,
   "id": "35c83eb5",
   "metadata": {},
   "outputs": [
    {
     "data": {
      "image/png": "[encoded data removed]",
      "text/plain": [
       "<Figure size 432x288 with 1 Axes>"
      ]
     },
     "metadata": {
      "needs_background": "light"
     },
     "output_type": "display_data"
    }
   ],
   "source": [
    "et.batch_plot(num_batch, ent_embeddings, rel_embeddings, nbd_embeddings, ent_id, rel_id, 5, edge_set, rel_tensor= False)"
   ]
  },
  {
   "cell_type": "code",
   "execution_count": 256,
   "id": "fe137ac3",
   "metadata": {},
   "outputs": [
    {
     "data": {
      "image/png": "[encoded data removed]",
      "text/plain": [
       "<Figure size 432x288 with 1 Axes>"
      ]
     },
     "metadata": {
      "needs_background": "light"
     },
     "output_type": "display_data"
    }
   ],
   "source": [
    "et.batch_plot(num_batch, ent_embeddings, rel_embeddings, nbd_embeddings, ent_id, rel_id, 5, edge_set, rel_tensor= False)"
   ]
  },
  {
   "cell_type": "code",
   "execution_count": 20,
   "id": "7438e0dd",
   "metadata": {},
   "outputs": [],
   "source": [
    "num_batch = 700"
   ]
  },
  {
   "cell_type": "code",
   "execution_count": 21,
   "id": "f9e4d97e",
   "metadata": {},
   "outputs": [
    {
     "data": {
      "image/png": "[encoded data removed]",
      "text/plain": [
       "<Figure size 432x288 with 1 Axes>"
      ]
     },
     "metadata": {
      "needs_background": "light"
     },
     "output_type": "display_data"
    }
   ],
   "source": [
    "et.batch_plot(num_batch, ent_embeddings, rel_embeddings, nbd_embeddings, ent_id, rel_id, 10, edge_set, norm_threshold = 0., rel_tensor= False)"
   ]
  },
  {
   "cell_type": "code",
   "execution_count": 7,
   "id": "28331906",
   "metadata": {},
   "outputs": [
    {
     "data": {
      "text/plain": [
       "9056"
      ]
     },
     "execution_count": 7,
     "metadata": {},
     "output_type": "execute_result"
    }
   ],
   "source": [
    "len(ent_id)"
   ]
  },
  {
   "cell_type": "code",
   "execution_count": 122,
   "id": "a3b8477f",
   "metadata": {},
   "outputs": [
    {
     "data": {
      "text/plain": [
       "<module 'embedding_torch' from '/home/shazoop/KG-Embeddings/embedding_torch.py'>"
      ]
     },
     "execution_count": 122,
     "metadata": {},
     "output_type": "execute_result"
    }
   ],
   "source": [
    "importlib.reload(et)"
   ]
  },
  {
   "cell_type": "code",
   "execution_count": 56,
   "id": "2036af9f",
   "metadata": {},
   "outputs": [],
   "source": [
    "r = et.batch_RR(edge,100, ent_embeddings, rel_embeddings, nbd_embeddings, ent_id, rel_id, 10, rel_tensor= False)"
   ]
  },
  {
   "cell_type": "code",
   "execution_count": 80,
   "id": "5defe2c0",
   "metadata": {},
   "outputs": [],
   "source": [
    "MRR = et.batch_MRR(2, 100, ent_embeddings, rel_embeddings, nbd_embeddings, ent_id, rel_id, 10, edge_set, rel_tensor= False)"
   ]
  },
  {
   "cell_type": "code",
   "execution_count": 97,
   "id": "ca73f48e",
   "metadata": {},
   "outputs": [],
   "source": [
    "MRR = et.batch_MRR_thresh(1000, 100, ent_embeddings, rel_embeddings, nbd_embeddings, ent_id, rel_id, 10, edge_set, threshold = 5., rel_tensor= False)"
   ]
  },
  {
   "cell_type": "code",
   "execution_count": 100,
   "id": "ac7fb83c",
   "metadata": {},
   "outputs": [],
   "source": [
    "MRR_100 = MRR\n"
   ]
  },
  {
   "cell_type": "code",
   "execution_count": 126,
   "id": "eaf6cea6",
   "metadata": {},
   "outputs": [
    {
     "data": {
      "text/plain": [
       "0.12114877657544268"
      ]
     },
     "execution_count": 126,
     "metadata": {},
     "output_type": "execute_result"
    }
   ],
   "source": [
    "MRR_100"
   ]
  },
  {
   "cell_type": "code",
   "execution_count": 115,
   "id": "c7ded877",
   "metadata": {},
   "outputs": [
    {
     "data": {
      "text/plain": [
       "(1.0, 12.92403312343793)"
      ]
     },
     "execution_count": 115,
     "metadata": {},
     "output_type": "execute_result"
    }
   ],
   "source": [
    "edge = list(edge_set['test.txt'])[250]\n",
    "r = et.batch_RR(edge,100, ent_embeddings, rel_embeddings, nbd_embeddings, ent_id, rel_id, 10, rel_tensor= False, reverse = True)\n",
    "r"
   ]
  },
  {
   "cell_type": "code",
   "execution_count": 105,
   "id": "538e86d8",
   "metadata": {},
   "outputs": [
    {
     "data": {
      "image/png": "[encoded data removed]",
      "text/plain": [
       "<Figure size 432x288 with 1 Axes>"
      ]
     },
     "metadata": {
      "needs_background": "light"
     },
     "output_type": "display_data"
    }
   ],
   "source": [
    "et.RR_plot(500, 50, ent_embeddings, rel_embeddings, nbd_embeddings, ent_id, rel_id, 5, edge_set, norm_threshold = 0., rel_tensor= False)\n",
    "\n",
    "#try log-log"
   ]
  },
  {
   "cell_type": "code",
   "execution_count": 101,
   "id": "3a9a4110",
   "metadata": {},
   "outputs": [],
   "source": [
    "MRR = et.batch_MRR_thresh(1000, 100, ent_embeddings, rel_embeddings, nbd_embeddings, ent_id, rel_id, 10, edge_set, threshold = 5., rel_tensor= False)"
   ]
  },
  {
   "cell_type": "code",
   "execution_count": 103,
   "id": "a96160f6",
   "metadata": {},
   "outputs": [],
   "source": [
    "MRR_1000 = MRR"
   ]
  },
  {
   "cell_type": "markdown",
   "id": "f7e60e95",
   "metadata": {},
   "source": [
    "# MRR using Reverse Edges"
   ]
  },
  {
   "cell_type": "code",
   "execution_count": 117,
   "id": "336db99a",
   "metadata": {},
   "outputs": [
    {
     "data": {
      "image/png": "[encoded data removed]",
      "text/plain": [
       "<Figure size 432x288 with 1 Axes>"
      ]
     },
     "metadata": {
      "needs_background": "light"
     },
     "output_type": "display_data"
    }
   ],
   "source": [
    "et.RR_plot(500, 50, ent_embeddings, rel_embeddings, nbd_embeddings, ent_id, rel_id, 5, edge_set, norm_threshold = 0., rel_tensor= False, reverse = True)"
   ]
  },
  {
   "cell_type": "code",
   "execution_count": 128,
   "id": "6934ca57",
   "metadata": {},
   "outputs": [
    {
     "data": {
      "image/png": "[encoded data removed]",
      "text/plain": [
       "<Figure size 432x288 with 1 Axes>"
      ]
     },
     "metadata": {
      "needs_background": "light"
     },
     "output_type": "display_data"
    }
   ],
   "source": [
    "et.RR_plot(500, 50, ent_embeddings, rel_embeddings, nbd_embeddings, ent_id, rel_id, 5, edge_set, norm_threshold = 0., rel_tensor= False, reverse = True)"
   ]
  },
  {
   "cell_type": "code",
   "execution_count": 130,
   "id": "09f5d203",
   "metadata": {},
   "outputs": [],
   "source": [
    "top3 = et.batch_hit(100, 50, ent_embeddings, rel_embeddings, nbd_embeddings, ent_id, rel_id, 10, edge_set, 3, rel_tensor= False, reverse = False)"
   ]
  },
  {
   "cell_type": "code",
   "execution_count": 131,
   "id": "c0aceb08",
   "metadata": {},
   "outputs": [
    {
     "data": {
      "text/plain": [
       "0.09"
      ]
     },
     "execution_count": 131,
     "metadata": {},
     "output_type": "execute_result"
    }
   ],
   "source": [
    "top3"
   ]
  },
  {
   "cell_type": "code",
   "execution_count": null,
   "id": "5b4f4934",
   "metadata": {},
   "outputs": [],
   "source": []
  }
 ],
 "metadata": {
  "kernelspec": {
   "display_name": "Python 3",
   "language": "python",
   "name": "python3"
  },
  "language_info": {
   "codemirror_mode": {
    "name": "ipython",
    "version": 3
   },
   "file_extension": ".py",
   "mimetype": "text/x-python",
   "name": "python",
   "nbconvert_exporter": "python",
   "pygments_lexer": "ipython3",
   "version": "3.8.8"
  }
 },
 "nbformat": 4,
 "nbformat_minor": 5
}
