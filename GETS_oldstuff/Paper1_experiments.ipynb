{
 "cells": [
  {
   "cell_type": "markdown",
   "metadata": {
    "colab_type": "text",
    "id": "view-in-github"
   },
   "source": [
    "<a href=\"https://colab.research.google.com/github/shazoop/KG-Embeddings/blob/main/Paper1_experiments.ipynb\" target=\"_parent\"><img src=\"https://colab.research.google.com/assets/colab-badge.svg\" alt=\"Open In Colab\"/></a>"
   ]
  },
  {
   "cell_type": "code",
   "execution_count": 1,
   "metadata": {
    "id": "44kbRWpxKHb-"
   },
   "outputs": [],
   "source": [
    "import torch\n",
    "import numpy as np"
   ]
  },
  {
   "cell_type": "code",
   "execution_count": 2,
   "metadata": {
    "id": "SehtpJeGKJ7E"
   },
   "outputs": [],
   "source": [
    "def vertex_code(dim, num):\n",
    "  codebook = np.zeros((num,dim))\n",
    "  for i in range(num):\n",
    "    code = np.random.multivariate_normal(np.zeros(dim),np.eye(dim))\n",
    "    code = code/np.linalg.norm(code)\n",
    "    codebook[i] = code\n",
    "  return(codebook)"
   ]
  },
  {
   "cell_type": "code",
   "execution_count": 3,
   "metadata": {
    "id": "hMifWnFGQnKl"
   },
   "outputs": [],
   "source": [
    "A = vertex_code(4,3)"
   ]
  },
  {
   "cell_type": "code",
   "execution_count": 4,
   "metadata": {
    "colab": {
     "base_uri": "https://localhost:8080/"
    },
    "id": "xFUCdnXPQpYl",
    "outputId": "d8cdef18-317c-441e-ea83-61c23fb64ff2"
   },
   "outputs": [
    {
     "data": {
      "text/plain": [
       "array([[-0.03344124, -0.48239829,  0.26485567, -0.83428116],\n",
       "       [-0.50636294, -0.06962025,  0.13042941,  0.84955151],\n",
       "       [ 0.0374129 , -0.11043764, -0.99038059,  0.07449897]])"
      ]
     },
     "execution_count": 4,
     "metadata": {},
     "output_type": "execute_result"
    }
   ],
   "source": [
    "A"
   ]
  },
  {
   "cell_type": "code",
   "execution_count": 5,
   "metadata": {
    "id": "Kw5sA9xvRAoV"
   },
   "outputs": [
    {
     "ename": "SyntaxError",
     "evalue": "invalid decimal literal (1737969902.py, line 2)",
     "output_type": "error",
     "traceback": [
      "\u001b[1;36m  Cell \u001b[1;32mIn[5], line 2\u001b[1;36m\u001b[0m\n\u001b[1;33m    d = codebook.shape(1a)\u001b[0m\n\u001b[1;37m                       ^\u001b[0m\n\u001b[1;31mSyntaxError\u001b[0m\u001b[1;31m:\u001b[0m invalid decimal literal\n"
     ]
    }
   ],
   "source": [
    "def generate_graph(codebook, num_edges):\n",
    "  d = codebook.shape(1a)\n",
    "  for i in range(num_edges):"
   ]
  },
  {
   "cell_type": "code",
   "execution_count": 10,
   "metadata": {
    "colab": {
     "base_uri": "https://localhost:8080/"
    },
    "id": "kEgqDn_GRcWX",
    "outputId": "ba7b9651-92d8-4ad2-8c6c-a3080bd6f52e"
   },
   "outputs": [
    {
     "data": {
      "text/plain": [
       "10"
      ]
     },
     "execution_count": 10,
     "metadata": {},
     "output_type": "execute_result"
    }
   ],
   "source": [
    "codebook.shape[1]"
   ]
  },
  {
   "cell_type": "code",
   "execution_count": 8,
   "metadata": {
    "id": "LG9liJXDQt9W"
   },
   "outputs": [],
   "source": [
    "dim = 10\n",
    "num = 30\n",
    "\n",
    "codebook = vertex_code(dim,num)\n",
    "\n",
    "special_code = vertex_code(dim,2)"
   ]
  }
 ],
 "metadata": {
  "colab": {
   "authorship_tag": "ABX9TyNSeHGEARSyUr4WsTnCPEWH",
   "include_colab_link": true,
   "name": "Untitled1.ipynb",
   "provenance": []
  },
  "kernelspec": {
   "display_name": "Python 3 (ipykernel)",
   "language": "python",
   "name": "python3"
  },
  "language_info": {
   "codemirror_mode": {
    "name": "ipython",
    "version": 3
   },
   "file_extension": ".py",
   "mimetype": "text/x-python",
   "name": "python",
   "nbconvert_exporter": "python",
   "pygments_lexer": "ipython3",
   "version": "3.10.9"
  }
 },
 "nbformat": 4,
 "nbformat_minor": 1
}
