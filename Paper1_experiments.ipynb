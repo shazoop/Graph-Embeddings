{
  "nbformat": 4,
  "nbformat_minor": 0,
  "metadata": {
    "colab": {
      "name": "Untitled1.ipynb",
      "provenance": [],
      "authorship_tag": "ABX9TyNSeHGEARSyUr4WsTnCPEWH",
      "include_colab_link": true
    },
    "kernelspec": {
      "name": "python3",
      "display_name": "Python 3"
    },
    "language_info": {
      "name": "python"
    }
  },
  "cells": [
    {
      "cell_type": "markdown",
      "metadata": {
        "id": "view-in-github",
        "colab_type": "text"
      },
      "source": [
        "<a href=\"https://colab.research.google.com/github/shazoop/KG-Embeddings/blob/main/Paper1_experiments.ipynb\" target=\"_parent\"><img src=\"https://colab.research.google.com/assets/colab-badge.svg\" alt=\"Open In Colab\"/></a>"
      ]
    },
    {
      "cell_type": "code",
      "execution_count": 1,
      "metadata": {
        "id": "44kbRWpxKHb-"
      },
      "outputs": [],
      "source": [
        "import torch\n",
        "import numpy as np"
      ]
    },
    {
      "cell_type": "code",
      "source": [
        "def vertex_code(dim, num):\n",
        "  codebook = np.zeros((num,dim))\n",
        "  for i in range(num):\n",
        "    code = np.random.multivariate_normal(np.zeros(dim),np.eye(dim))\n",
        "    code = code/np.linalg.norm(code)\n",
        "    codebook[i] = code\n",
        "  return(codebook)"
      ],
      "metadata": {
        "id": "SehtpJeGKJ7E"
      },
      "execution_count": 2,
      "outputs": []
    },
    {
      "cell_type": "code",
      "source": [
        "A = vertex_code(4,3)"
      ],
      "metadata": {
        "id": "hMifWnFGQnKl"
      },
      "execution_count": 3,
      "outputs": []
    },
    {
      "cell_type": "code",
      "source": [
        "A"
      ],
      "metadata": {
        "colab": {
          "base_uri": "https://localhost:8080/"
        },
        "id": "xFUCdnXPQpYl",
        "outputId": "d8cdef18-317c-441e-ea83-61c23fb64ff2"
      },
      "execution_count": 4,
      "outputs": [
        {
          "output_type": "execute_result",
          "data": {
            "text/plain": [
              "array([[-0.17241161,  0.16324207, -0.79094164,  0.5639482 ],\n",
              "       [-0.28891552,  0.56220736,  0.5270272 , -0.56806077],\n",
              "       [-0.42881342, -0.12753136, -0.88351473,  0.13876786]])"
            ]
          },
          "metadata": {},
          "execution_count": 4
        }
      ]
    },
    {
      "cell_type": "code",
      "source": [
        "def generate_graph(codebook, num_edges):\n",
        "  d = codebook.shape(1a)\n",
        "  for i in range(num_edges):"
      ],
      "metadata": {
        "id": "Kw5sA9xvRAoV"
      },
      "execution_count": null,
      "outputs": []
    },
    {
      "cell_type": "code",
      "source": [
        "codebook.shape[1]"
      ],
      "metadata": {
        "colab": {
          "base_uri": "https://localhost:8080/"
        },
        "id": "kEgqDn_GRcWX",
        "outputId": "ba7b9651-92d8-4ad2-8c6c-a3080bd6f52e"
      },
      "execution_count": 10,
      "outputs": [
        {
          "output_type": "execute_result",
          "data": {
            "text/plain": [
              "10"
            ]
          },
          "metadata": {},
          "execution_count": 10
        }
      ]
    },
    {
      "cell_type": "code",
      "source": [
        "dim = 10\n",
        "num = 30\n",
        "\n",
        "codebook = vertex_code(dim,num)\n",
        "\n",
        "special_code = vertex_code(dim,2)"
      ],
      "metadata": {
        "id": "LG9liJXDQt9W"
      },
      "execution_count": 8,
      "outputs": []
    }
  ]
}