{
  "nbformat": 4,
  "nbformat_minor": 0,
  "metadata": {
    "colab": {
      "name": "Untitled1.ipynb",
      "provenance": [],
      "authorship_tag": "ABX9TyOIWSyfCw/tiEfJ0TKaRgNz",
      "include_colab_link": true
    },
    "kernelspec": {
      "name": "python3",
      "display_name": "Python 3"
    },
    "language_info": {
      "name": "python"
    }
  },
  "cells": [
    {
      "cell_type": "markdown",
      "metadata": {
        "id": "view-in-github",
        "colab_type": "text"
      },
      "source": [
        "<a href=\"https://colab.research.google.com/github/shazoop/KG-Embeddings/blob/main/Paper2_experiments.ipynb\" target=\"_parent\"><img src=\"https://colab.research.google.com/assets/colab-badge.svg\" alt=\"Open In Colab\"/></a>"
      ]
    },
    {
      "cell_type": "code",
      "execution_count": 43,
      "metadata": {
        "id": "6yYRAsNz3L-q"
      },
      "outputs": [],
      "source": [
        "import torch\n",
        "import numpy as np\n",
        "import random as rand\n",
        "import matplotlib.pyplot as plt\n",
        "import math"
      ]
    },
    {
      "cell_type": "code",
      "source": [
        "def vertex_code(dim, num):\n",
        "  codebook = np.zeros((num,dim))\n",
        "  for i in range(num):\n",
        "    code = np.random.multivariate_normal(np.zeros(dim),np.eye(dim))\n",
        "    code = code/np.linalg.norm(code)\n",
        "    codebook[i] = code\n",
        "  return(codebook)\n",
        "\n",
        "def vertex_code_R(dim, num):\n",
        "  codebook = np.zeros((num,dim))\n",
        "  for i in range(num):\n",
        "    code = 2*np.random.binomial(1,.5,dim)-1\n",
        "    codebook[i] = code\n",
        "  return(codebook)"
      ],
      "metadata": {
        "id": "68a7re8G3NVN"
      },
      "execution_count": 53,
      "outputs": []
    },
    {
      "cell_type": "code",
      "source": [
        "def generate_edge(special_code):\n",
        "  edge = np.einsum('i,j -> ij', special_code[0], special_code[1])\n",
        "  return(edge)\n",
        "\n",
        "def generate_edge_R(special_code):\n",
        "  edge = special_code[0]*special_code[1]\n",
        "  return(edge)"
      ],
      "metadata": {
        "id": "wvmlevT05d2p"
      },
      "execution_count": 54,
      "outputs": []
    },
    {
      "cell_type": "code",
      "source": [
        "def generate_graph(codebook, num_edges):\n",
        "  n,d = codebook.shape[0], codebook.shape[1]\n",
        "  graph = 0\n",
        "  for i in range(num_edges):\n",
        "    d_ix, c_ix = rand.randint(0,n-1), rand.randint(0,n-1)\n",
        "    dom, cod = codebook[d_ix], codebook[c_ix]\n",
        "    graph  = graph + np.einsum('i,j -> ij', dom, cod)\n",
        "  return(graph)\n",
        "\n",
        "def generate_graph_R(codebook, num_edges):\n",
        "  n,d = codebook.shape[0], codebook.shape[1]\n",
        "  graph = 0\n",
        "  for i in range(num_edges):\n",
        "    d_ix, c_ix = rand.randint(0,n-1), rand.randint(0,n-1)\n",
        "    dom, cod = codebook[d_ix], codebook[c_ix]\n",
        "    graph  = graph + (dom*cod)\n",
        "  return(graph)\n"
      ],
      "metadata": {
        "id": "JUkflsAm3v6k"
      },
      "execution_count": 99,
      "outputs": []
    },
    {
      "cell_type": "code",
      "source": [
        "def correct_edgeQ(codebook, special_code, num_edges, num_trials):\n",
        "  avg_score = 0\n",
        "  for step in range(num_trials):\n",
        "    curr_graph = generate_graph(codebook,num_edges) + generate_edge(special_code)\n",
        "    edgeQ = np.einsum('i,ij,j ->',special_code[0],curr_graph, special_code[1])\n",
        "    avg_score = avg_score + edgeQ\n",
        "  avg_score = avg_score/num_trials\n",
        "  return(avg_score)\n",
        "\n",
        "def correct_edgeQ_R(codebook, special_code, num_edges, num_trials):\n",
        "  avg_score = 0\n",
        "  for step in range(num_trials):\n",
        "    curr_graph = generate_graph_R(codebook,num_edges) + generate_edge_R(special_code)\n",
        "    edgeQ = np.sum(curr_graph*special_code[0]*special_code[1])\n",
        "    avg_score = avg_score + edgeQ\n",
        "  avg_score = avg_score/num_trials\n",
        "  return(avg_score)"
      ],
      "metadata": {
        "id": "9A4jHcSh39MG"
      },
      "execution_count": 56,
      "outputs": []
    },
    {
      "cell_type": "code",
      "source": [
        "def incorrect_edgeQ(codebook, special_code, num_edges, num_trials):\n",
        "  avg_score = 0\n",
        "  for step in range(num_trials):\n",
        "    curr_graph = generate_graph(codebook,num_edges)\n",
        "    edgeQ = np.einsum('i,ij,j ->',special_code[0],curr_graph, special_code[1])\n",
        "    avg_score = avg_score + edgeQ\n",
        "  avg_score = avg_score/num_trials\n",
        "  return(avg_score)\n",
        "\n",
        "def incorrect_edgeQ_R(codebook, special_code, num_edges, num_trials):\n",
        "  avg_score = 0\n",
        "  for step in range(num_trials):\n",
        "    curr_graph = generate_graph_R(codebook,num_edges)\n",
        "    edgeQ = np.sum(curr_graph*special_code[0]*special_code[1])\n",
        "    avg_score = avg_score + edgeQ\n",
        "  avg_score = avg_score/num_trials\n",
        "  return(avg_score)"
      ],
      "metadata": {
        "id": "KWkb3jrl4R-t"
      },
      "execution_count": 57,
      "outputs": []
    },
    {
      "cell_type": "code",
      "source": [
        "def edge_composition(graph1,graph2):\n",
        "  composed_graph = np.einsum('ij,jk -> ik',graph1,graph2)\n",
        "  return(composed_graph)\n",
        "\n",
        "def correct_compQ(codebook, edge_code, num_edges, num_trials):\n",
        "  avg_score = 0\n",
        "  for step in range(num_trials):\n",
        "    curr_graph = generate_graph(codebook,num_edges) + generate_edge(edge_code[:2]) + generate_edge(edge_code[1:3])\n",
        "    curr_graph = edge_composition(curr_graph,curr_graph)\n",
        "    edgeQ = np.einsum('i,ij,j ->',edge_code[0],curr_graph, edge_code[2])\n",
        "    avg_score = avg_score + edgeQ\n",
        "  avg_score = avg_score/num_trials\n",
        "  return(avg_score)\n",
        "\n",
        "def incorrect_compQ(codebook, edge_code, num_edges, num_trials):\n",
        "  avg_score = 0\n",
        "  for step in range(num_trials):\n",
        "    curr_graph = generate_graph(codebook,num_edges)\n",
        "    curr_graph = edge_composition(curr_graph,curr_graph)\n",
        "    edgeQ = np.einsum('i,ij,j ->',edge_code[0],curr_graph, edge_code[2])\n",
        "    avg_score = avg_score + edgeQ\n",
        "  avg_score = avg_score/num_trials\n",
        "  return(avg_score)\n",
        "\n",
        "def edge_composition_R(graph1,graph2):\n",
        "  composed_graph = graph1*graph2\n",
        "  return(composed_graph)\n",
        "\n",
        "def correct_compQ_R(codebook, edge_code, num_edges, num_trials):\n",
        "  avg_score = 0\n",
        "  for step in range(num_trials):\n",
        "    curr_graph = generate_graph_R(codebook,num_edges) + generate_edge_R(edge_code[:2]) + generate_edge_R(edge_code[1:3])\n",
        "    curr_graph = edge_composition_R(curr_graph,curr_graph)\n",
        "    edgeQ = np.sum(edge_code[0]*curr_graph*edge_code[2])\n",
        "    avg_score = avg_score + edgeQ\n",
        "  avg_score = avg_score/num_trials\n",
        "  return(avg_score)\n",
        "\n",
        "def incorrect_compQ_R(codebook, edge_code, num_edges, num_trials):\n",
        "  avg_score = 0\n",
        "  for step in range(num_trials):\n",
        "    curr_graph = generate_graph_R(codebook,num_edges)\n",
        "    curr_graph = edge_composition_R(curr_graph,curr_graph)\n",
        "    edgeQ = np.sum(edge_code[0]*curr_graph*edge_code[2])\n",
        "    avg_score = avg_score + edgeQ\n",
        "  avg_score = avg_score/num_trials\n",
        "  return(avg_score)"
      ],
      "metadata": {
        "id": "GrFpXrxz4Zm9"
      },
      "execution_count": 58,
      "outputs": []
    },
    {
      "cell_type": "code",
      "source": [
        "def testing(vertex_dim, vertex_num, edge_list, num_trials):\n",
        "  codebook = vertex_code(vertex_dim,vertex_num)\n",
        "  special_code = vertex_code(vertex_dim,2)\n",
        "  edge_code = vertex_code(vertex_dim,3)\n",
        "  cor_edgeQ = []\n",
        "  incor_edgeQ = []\n",
        "  cor_compQ = []\n",
        "  incor_compQ = []\n",
        "  for num_edge in edge_list:\n",
        "    cor_edgeQ.append(correct_edgeQ(codebook, special_code, num_edge, num_trials))\n",
        "    incor_edgeQ.append(incorrect_edgeQ(codebook, special_code, num_edge, num_trials))\n",
        "    cor_compQ.append(correct_compQ(codebook, edge_code, num_edge, num_trials))\n",
        "    incor_compQ.append(incorrect_compQ(codebook, edge_code, num_edge, num_trials))\n",
        "  return cor_edgeQ, incor_edgeQ, cor_compQ, incor_compQ\n",
        "\n",
        "def testing_R(vertex_dim, vertex_num, edge_list, num_trials):\n",
        "  codebook = vertex_code_R(vertex_dim,vertex_num)\n",
        "  special_code = vertex_code_R(vertex_dim,2)\n",
        "  edge_code = vertex_code_R(vertex_dim,3)\n",
        "  cor_edgeQ = []\n",
        "  incor_edgeQ = []\n",
        "  cor_compQ = []\n",
        "  incor_compQ = []\n",
        "  for num_edge in edge_list:\n",
        "    cor_edgeQ.append(correct_edgeQ_R(codebook, special_code, num_edge, num_trials))\n",
        "    incor_edgeQ.append(incorrect_edgeQ_R(codebook, special_code, num_edge, num_trials))\n",
        "    cor_compQ.append(correct_compQ_R(codebook, edge_code, num_edge, num_trials))\n",
        "    incor_compQ.append(incorrect_compQ_R(codebook, edge_code, num_edge, num_trials))\n",
        "  return cor_edgeQ, incor_edgeQ, cor_compQ, incor_compQ"
      ],
      "metadata": {
        "id": "B7CWRJJr4cFN"
      },
      "execution_count": 66,
      "outputs": []
    },
    {
      "cell_type": "code",
      "source": [
        "edge_list = [8,16,32,48,64,128,256,512]"
      ],
      "metadata": {
        "id": "JZgIcCu44crk"
      },
      "execution_count": 70,
      "outputs": []
    },
    {
      "cell_type": "code",
      "source": [
        "vertex_dim = 16\n",
        "vertex_num = 64\n",
        "num_trials = 500"
      ],
      "metadata": {
        "id": "Avfx_o1WI4cG"
      },
      "execution_count": 71,
      "outputs": []
    },
    {
      "cell_type": "code",
      "source": [
        "cor_edgeQ, incor_edgeQ, cor_compQ, incor_compQ = testing(vertex_dim, vertex_num, edge_list, num_trials)"
      ],
      "metadata": {
        "id": "TKLPycWRI7Kt"
      },
      "execution_count": 72,
      "outputs": []
    },
    {
      "cell_type": "code",
      "source": [
        "fig1, axs = plt.subplots(1,2)\n",
        "fig1.suptitle('Edge Query')\n",
        "fig1.text(0.5, 0.035, '# of edges', ha='center')\n",
        "fig1.text(0.04, 0.5, 'score deviation', va='center', rotation='vertical')\n",
        "axs[0].plot(edge_list,cor_edgeQ, marker = 'o')\n",
        "axs[0].axhline(y=1, color = 'r', linestyle = '-')\n",
        "axs[0].set_title('Correct')\n",
        "axs[1].plot(edge_list,incor_edgeQ, marker = 'o')\n",
        "axs[1].axhline(y=0, color = 'r', linestyle = '-')\n",
        "axs[1].set_title('Incorrect')"
      ],
      "metadata": {
        "colab": {
          "base_uri": "https://localhost:8080/",
          "height": 322
        },
        "id": "hnuftsUlI8i2",
        "outputId": "e60307d9-12c8-4999-c986-d30ee3b4b927"
      },
      "execution_count": 109,
      "outputs": [
        {
          "output_type": "execute_result",
          "data": {
            "text/plain": [
              "Text(0.5, 1.0, 'Incorrect')"
            ]
          },
          "metadata": {},
          "execution_count": 109
        },
        {
          "output_type": "display_data",
          "data": {
            "text/plain": [
              "<Figure size 432x288 with 2 Axes>"
            ],
            "image/png": "[encoded data removed]"
          },
          "metadata": {
            "needs_background": "light"
          }
        }
      ]
    },
    {
      "cell_type": "code",
      "source": [
        "fig1, axs = plt.subplots(1,2)\n",
        "fig1.suptitle('Edge Composition')\n",
        "fig1.text(0.5, 0.035, '# of edges', ha='center')\n",
        "fig1.text(0.04, 0.5, 'score deviation', va='center', rotation='vertical')\n",
        "axs[0].plot(edge_list,cor_compQ, marker = 'o')\n",
        "axs[0].axhline(y=1, color = 'r', linestyle = '-')\n",
        "axs[0].set_title('Correct')\n",
        "axs[1].plot(edge_list,incor_compQ, marker = 'o')\n",
        "axs[1].axhline(y=1, color = 'r', linestyle = '-')\n",
        "axs[1].set_title('Incorrect')"
      ],
      "metadata": {
        "colab": {
          "base_uri": "https://localhost:8080/",
          "height": 322
        },
        "id": "zKcj_YLPPHMi",
        "outputId": "31166898-d923-45ae-f060-e4beb9d9eb1c"
      },
      "execution_count": 110,
      "outputs": [
        {
          "output_type": "execute_result",
          "data": {
            "text/plain": [
              "Text(0.5, 1.0, 'Incorrect')"
            ]
          },
          "metadata": {},
          "execution_count": 110
        },
        {
          "output_type": "display_data",
          "data": {
            "text/plain": [
              "<Figure size 432x288 with 2 Axes>"
            ],
            "image/png": "[encoded data removed]"
          },
          "metadata": {
            "needs_background": "light"
          }
        }
      ]
    },
    {
      "cell_type": "code",
      "source": [
        "cor_edgeQ_R, incor_edgeQ_R, cor_compQ_R, incor_compQ_R = testing_R(vertex_dim, vertex_num, edge_list, num_trials)"
      ],
      "metadata": {
        "id": "HhNYg27dJHY3"
      },
      "execution_count": 104,
      "outputs": []
    },
    {
      "cell_type": "code",
      "source": [
        "fig1, axs = plt.subplots(1,2)\n",
        "fig1.suptitle('Edge Query')\n",
        "fig1.text(0.5, 0.035, '# of edges', ha='center')\n",
        "fig1.text(0.04, 0.5, 'score deviation', va='center', rotation='vertical')\n",
        "axs[0].plot(edge_list,cor_edgeQ_R, marker = 'o')\n",
        "axs[0].axhline(y=16, color = 'r', linestyle = '-')\n",
        "axs[0].set_title('Correct')\n",
        "axs[1].plot(edge_list,incor_edgeQ_R, marker = 'o')\n",
        "axs[1].axhline(y=0, color = 'r', linestyle = '-')\n",
        "axs[1].set_title('Incorrect')"
      ],
      "metadata": {
        "colab": {
          "base_uri": "https://localhost:8080/",
          "height": 322
        },
        "id": "b6PnQr3IJat3",
        "outputId": "035d62da-1409-4ed6-b7ad-24fe21473108"
      },
      "execution_count": 107,
      "outputs": [
        {
          "output_type": "execute_result",
          "data": {
            "text/plain": [
              "Text(0.5, 1.0, 'Incorrect')"
            ]
          },
          "metadata": {},
          "execution_count": 107
        },
        {
          "output_type": "display_data",
          "data": {
            "text/plain": [
              "<Figure size 432x288 with 2 Axes>"
            ],
            "image/png": "[encoded data removed]"
          },
          "metadata": {
            "needs_background": "light"
          }
        }
      ]
    },
    {
      "cell_type": "code",
      "source": [
        "fig1, axs = plt.subplots(1,2)\n",
        "fig1.suptitle('Edge Composition')\n",
        "fig1.text(0.5, 0.035, '# of edges', ha='center')\n",
        "fig1.text(0.04, 0.5, 'score deviation', va='center', rotation='vertical')\n",
        "axs[0].plot(edge_list,cor_compQ_R, marker = 'o')\n",
        "axs[0].axhline(y=1, color = 'r', linestyle = '-')\n",
        "axs[0].set_title('Correct')\n",
        "axs[1].plot(edge_list,incor_compQ_R, marker = 'o')\n",
        "axs[1].axhline(y=1, color = 'r', linestyle = '-')\n",
        "axs[1].set_title('Incorrect')"
      ],
      "metadata": {
        "colab": {
          "base_uri": "https://localhost:8080/",
          "height": 322
        },
        "id": "j_B3ZLdVJkyX",
        "outputId": "f9147792-eb1d-4845-9efa-82af6c508908"
      },
      "execution_count": 111,
      "outputs": [
        {
          "output_type": "execute_result",
          "data": {
            "text/plain": [
              "Text(0.5, 1.0, 'Incorrect')"
            ]
          },
          "metadata": {},
          "execution_count": 111
        },
        {
          "output_type": "display_data",
          "data": {
            "text/plain": [
              "<Figure size 432x288 with 2 Axes>"
            ],
            "image/png": "[encoded data removed]"
          },
          "metadata": {
            "needs_background": "light"
          }
        }
      ]
    },
    {
      "cell_type": "code",
      "source": [
        "test_code = vertex_code_R(16,20)\n",
        "generate_graph_R(test_code,40)"
      ],
      "metadata": {
        "colab": {
          "base_uri": "https://localhost:8080/"
        },
        "id": "fRdhl1NUPfgO",
        "outputId": "b63ee18b-5477-4d5a-dd77-1fea2fecedc7"
      },
      "execution_count": 103,
      "outputs": [
        {
          "output_type": "execute_result",
          "data": {
            "text/plain": [
              "array([  2.,   2.,   4.,   4.,  10.,   2.,  -2.,  10., -10.,  16.,  -4.,\n",
              "        -6.,  -4.,   6.,   2.,   4.])"
            ]
          },
          "metadata": {},
          "execution_count": 103
        }
      ]
    },
    {
      "cell_type": "code",
      "source": [
        "def generate_graph_R(codebook, num_edges):\n",
        "  n,d = codebook.shape[0], codebook.shape[1]\n",
        "  graph = 0\n",
        "  for i in range(num_edges):\n",
        "    d_ix, c_ix = rand.randint(0,n-1), rand.randint(0,n-1)\n",
        "    dom, cod = codebook[d_ix], codebook[c_ix]\n",
        "    graph  = graph + (dom*cod)\n",
        "  return(graph)"
      ],
      "metadata": {
        "colab": {
          "base_uri": "https://localhost:8080/"
        },
        "id": "rmZM-qLsR-YO",
        "outputId": "6acc9917-9aab-4926-e7c8-646f624b7de1"
      },
      "execution_count": 84,
      "outputs": [
        {
          "output_type": "execute_result",
          "data": {
            "text/plain": [
              "array([[ 1.,  1.,  1.,  1., -1.,  1., -1.,  1., -1., -1., -1.,  1., -1.,\n",
              "         1.,  1.,  1.],\n",
              "       [-1., -1., -1.,  1., -1., -1.,  1.,  1., -1.,  1., -1., -1., -1.,\n",
              "         1., -1., -1.],\n",
              "       [ 1.,  1.,  1., -1.,  1.,  1., -1.,  1.,  1.,  1.,  1., -1.,  1.,\n",
              "         1., -1., -1.],\n",
              "       [-1.,  1., -1.,  1., -1., -1., -1., -1.,  1., -1.,  1., -1., -1.,\n",
              "         1., -1.,  1.],\n",
              "       [-1.,  1., -1., -1.,  1.,  1.,  1.,  1., -1.,  1.,  1., -1.,  1.,\n",
              "         1.,  1., -1.],\n",
              "       [-1.,  1.,  1., -1., -1., -1., -1.,  1.,  1., -1.,  1.,  1.,  1.,\n",
              "         1., -1., -1.],\n",
              "       [ 1., -1., -1., -1., -1.,  1., -1., -1.,  1., -1., -1., -1.,  1.,\n",
              "         1., -1., -1.],\n",
              "       [-1.,  1., -1.,  1.,  1.,  1.,  1.,  1.,  1., -1., -1., -1., -1.,\n",
              "        -1., -1., -1.],\n",
              "       [ 1.,  1.,  1.,  1.,  1.,  1., -1.,  1., -1.,  1.,  1.,  1.,  1.,\n",
              "        -1., -1.,  1.],\n",
              "       [ 1., -1., -1.,  1., -1., -1.,  1.,  1.,  1., -1.,  1., -1.,  1.,\n",
              "        -1., -1.,  1.],\n",
              "       [-1., -1., -1., -1.,  1.,  1., -1., -1.,  1.,  1., -1., -1., -1.,\n",
              "         1., -1.,  1.],\n",
              "       [-1.,  1., -1.,  1.,  1.,  1.,  1., -1., -1.,  1.,  1.,  1., -1.,\n",
              "        -1.,  1.,  1.],\n",
              "       [ 1.,  1.,  1., -1.,  1., -1., -1., -1., -1.,  1.,  1.,  1.,  1.,\n",
              "         1.,  1.,  1.],\n",
              "       [-1.,  1., -1., -1.,  1.,  1., -1., -1., -1., -1., -1.,  1.,  1.,\n",
              "         1., -1., -1.],\n",
              "       [-1.,  1.,  1., -1., -1., -1., -1.,  1.,  1., -1., -1., -1.,  1.,\n",
              "         1., -1., -1.],\n",
              "       [-1.,  1.,  1.,  1., -1., -1.,  1.,  1., -1.,  1., -1., -1.,  1.,\n",
              "        -1., -1.,  1.],\n",
              "       [ 1., -1., -1.,  1., -1.,  1., -1.,  1.,  1.,  1., -1., -1.,  1.,\n",
              "         1.,  1., -1.],\n",
              "       [-1., -1., -1.,  1.,  1.,  1.,  1.,  1.,  1.,  1., -1.,  1., -1.,\n",
              "         1., -1.,  1.],\n",
              "       [ 1.,  1.,  1.,  1., -1.,  1., -1., -1.,  1., -1.,  1., -1.,  1.,\n",
              "         1.,  1.,  1.],\n",
              "       [ 1., -1., -1.,  1., -1., -1.,  1.,  1., -1.,  1., -1.,  1.,  1.,\n",
              "        -1., -1., -1.]])"
            ]
          },
          "metadata": {},
          "execution_count": 84
        }
      ]
    },
    {
      "cell_type": "code",
      "source": [
        "codebook = test_code"
      ],
      "metadata": {
        "id": "oqV3Va0cSc9v"
      },
      "execution_count": 88,
      "outputs": []
    },
    {
      "cell_type": "code",
      "source": [
        "n,d = codebook.shape[0], codebook.shape[1]\n"
      ],
      "metadata": {
        "id": "2wLt2G8USugm"
      },
      "execution_count": 89,
      "outputs": []
    },
    {
      "cell_type": "code",
      "source": [
        "graph = 0\n",
        "for i in range(4):\n",
        "  d_ix, c_ix = rand.randint(0,n-1), rand.randint(0,n-1)\n",
        "  dom, cod = codebook[d_ix], codebook[c_ix]\n",
        "  graph  = graph + (dom*cod)\n"
      ],
      "metadata": {
        "id": "gklwXg81SvzP"
      },
      "execution_count": 97,
      "outputs": []
    },
    {
      "cell_type": "code",
      "source": [
        "  d_ix, c_ix = rand.randint(0,n-1), rand.randint(0,n-1)\n",
        "  dom, cod = codebook[d_ix], codebook[c_ix]"
      ],
      "metadata": {
        "id": "H8xe7Ll7SwXX"
      },
      "execution_count": 92,
      "outputs": []
    },
    {
      "cell_type": "code",
      "source": [
        "graph"
      ],
      "metadata": {
        "colab": {
          "base_uri": "https://localhost:8080/"
        },
        "id": "_qJP-6XLS3Xf",
        "outputId": "ebb0a243-d5fc-47fe-e664-2cc2f5e00047"
      },
      "execution_count": 98,
      "outputs": [
        {
          "output_type": "execute_result",
          "data": {
            "text/plain": [
              "array([ 0.,  4.,  0., -2.,  0.,  2., -2.,  0.,  0.,  2.,  0.,  0.,  4.,\n",
              "        2., -2., -2.])"
            ]
          },
          "metadata": {},
          "execution_count": 98
        }
      ]
    },
    {
      "cell_type": "code",
      "source": [
        ""
      ],
      "metadata": {
        "id": "ViJ6EKkOS383"
      },
      "execution_count": null,
      "outputs": []
    }
  ]
}