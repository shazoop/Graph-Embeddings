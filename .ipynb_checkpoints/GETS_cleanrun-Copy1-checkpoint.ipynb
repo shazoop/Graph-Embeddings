{
 "cells": [
  {
   "cell_type": "markdown",
   "metadata": {
    "colab_type": "text",
    "id": "view-in-github"
   },
   "source": [
    "<a href=\"https://colab.research.google.com/github/shazoop/KG-Embeddings/blob/main/Paper2_experiments.ipynb\" target=\"_parent\"><img src=\"https://colab.research.google.com/assets/colab-badge.svg\" alt=\"Open In Colab\"/></a>"
   ]
  },
  {
   "cell_type": "code",
   "execution_count": 1,
   "metadata": {},
   "outputs": [],
   "source": [
    "from GETS_auxfun import *"
   ]
  },
  {
   "cell_type": "code",
   "execution_count": 2,
   "metadata": {
    "id": "JZgIcCu44crk"
   },
   "outputs": [],
   "source": [
    "book_size = [16,32,64,128,264,512,1024]\n",
    "edge_list = [8,16,32,48,64,128,256,512]"
   ]
  },
  {
   "cell_type": "code",
   "execution_count": 3,
   "metadata": {
    "id": "Avfx_o1WI4cG"
   },
   "outputs": [],
   "source": [
    "vertex_dim = 16\n",
    "vertex_num = 64\n",
    "num_edge = 64\n",
    "num_trials = 200"
   ]
  },
  {
   "cell_type": "code",
   "execution_count": 7,
   "metadata": {
    "id": "TKLPycWRI7Kt"
   },
   "outputs": [],
   "source": [
    "#Effect of codebook size and resampling.\n",
    "\n",
    "cor_edgeQ, incor_edgeQ, cor_compQ, incor_compQ = testing_code(vertex_dim, vertex_num, book_size, num_edge, num_trials)"
   ]
  },
  {
   "cell_type": "code",
   "execution_count": 8,
   "metadata": {},
   "outputs": [],
   "source": [
    "corEQ = np.array(cor_edgeQ)"
   ]
  },
  {
   "cell_type": "code",
   "execution_count": 9,
   "metadata": {},
   "outputs": [
    {
     "data": {
      "text/plain": [
       "array([[0.83467961, 0.98957404],\n",
       "       [1.10950666, 1.18162787],\n",
       "       [0.92381028, 1.07754404],\n",
       "       [1.00810709, 1.11364534],\n",
       "       [0.99365736, 1.11519408],\n",
       "       [1.03491493, 1.14523975],\n",
       "       [1.07025281, 1.17611517]])"
      ]
     },
     "execution_count": 9,
     "metadata": {},
     "output_type": "execute_result"
    }
   ],
   "source": [
    "corEQ"
   ]
  },
  {
   "cell_type": "code",
   "execution_count": null,
   "metadata": {},
   "outputs": [],
   "source": [
    "cor_edgeQ, incor_edgeQ, cor_compQ, incor_compQ = testing_R(vertex_dim, vertex_num, edge_list, num_trials)"
   ]
  },
  {
   "cell_type": "code",
   "execution_count": null,
   "metadata": {
    "colab": {
     "base_uri": "https://localhost:8080/",
     "height": 322
    },
    "id": "hnuftsUlI8i2",
    "outputId": "e60307d9-12c8-4999-c986-d30ee3b4b927"
   },
   "outputs": [],
   "source": [
    "fig1, axs = plt.subplots(1,2)\n",
    "fig1.suptitle('Edge Query')\n",
    "fig1.text(0.5, 0.035, 'Vertex Codebook Size', ha='center')\n",
    "fig1.text(0.04, 0.5, 'Average Score', va='center', rotation='vertical')\n",
    "axs[0].plot(book_size,cor_edgeQ, marker = 'o')\n",
    "axs[0].axhline(y=1, color = 'r', linestyle = '-')\n",
    "axs[0].set_title('Correct')\n",
    "axs[1].plot(book_size,incor_edgeQ, marker = 'o')\n",
    "axs[1].axhline(y=0, color = 'r', linestyle = '-')\n",
    "axs[1].set_title('Incorrect')"
   ]
  },
  {
   "cell_type": "code",
   "execution_count": null,
   "metadata": {
    "colab": {
     "base_uri": "https://localhost:8080/",
     "height": 322
    },
    "id": "zKcj_YLPPHMi",
    "outputId": "31166898-d923-45ae-f060-e4beb9d9eb1c"
   },
   "outputs": [],
   "source": [
    "fig1, axs = plt.subplots(1,2)\n",
    "fig1.suptitle('Edge Composition')\n",
    "fig1.text(0.5, 0.035, '# of edges', ha='center')\n",
    "fig1.text(0.04, 0.5, 'score deviation', va='center', rotation='vertical')\n",
    "axs[0].plot(edge_list,cor_compQ, marker = 'o')\n",
    "axs[0].axhline(y=1, color = 'r', linestyle = '-')\n",
    "axs[0].set_title('Correct')\n",
    "axs[1].plot(edge_list,incor_compQ, marker = 'o')\n",
    "axs[1].axhline(y=1, color = 'r', linestyle = '-')\n",
    "axs[1].set_title('Incorrect')"
   ]
  },
  {
   "cell_type": "code",
   "execution_count": null,
   "metadata": {
    "id": "HhNYg27dJHY3"
   },
   "outputs": [],
   "source": [
    "cor_edgeQ_R, incor_edgeQ_R, cor_compQ_R, incor_compQ_R = testing_R(vertex_dim, vertex_num, edge_list, num_trials)"
   ]
  },
  {
   "cell_type": "code",
   "execution_count": null,
   "metadata": {
    "colab": {
     "base_uri": "https://localhost:8080/",
     "height": 322
    },
    "id": "b6PnQr3IJat3",
    "outputId": "035d62da-1409-4ed6-b7ad-24fe21473108"
   },
   "outputs": [],
   "source": [
    "fig1, axs = plt.subplots(1,2)\n",
    "fig1.suptitle('Edge Query')\n",
    "fig1.text(0.5, 0.035, '# of edges', ha='center')\n",
    "fig1.text(0.04, 0.5, 'score deviation', va='center', rotation='vertical')\n",
    "axs[0].plot(edge_list,cor_edgeQ_R, marker = 'o')\n",
    "axs[0].axhline(y=256, color = 'r', linestyle = '-')\n",
    "axs[0].set_title('Correct')\n",
    "axs[1].plot(edge_list,incor_edgeQ_R, marker = 'o')\n",
    "axs[1].axhline(y=0, color = 'r', linestyle = '-')\n",
    "axs[1].set_title('Incorrect')"
   ]
  },
  {
   "cell_type": "code",
   "execution_count": null,
   "metadata": {
    "colab": {
     "base_uri": "https://localhost:8080/",
     "height": 322
    },
    "id": "j_B3ZLdVJkyX",
    "outputId": "f9147792-eb1d-4845-9efa-82af6c508908"
   },
   "outputs": [],
   "source": [
    "fig1, axs = plt.subplots(1,2)\n",
    "fig1.suptitle('Edge Composition')\n",
    "fig1.text(0.5, 0.035, '# of edges', ha='center')\n",
    "fig1.text(0.04, 0.5, 'score deviation', va='center', rotation='vertical')\n",
    "axs[0].plot(edge_list,cor_compQ_R, marker = 'o')\n",
    "axs[0].axhline(y=256, color = 'r', linestyle = '-')\n",
    "axs[0].set_title('Correct')\n",
    "axs[1].plot(edge_list,incor_compQ_R, marker = 'o')\n",
    "axs[1].axhline(y=0, color = 'r', linestyle = '-')\n",
    "axs[1].set_title('Incorrect')"
   ]
  },
  {
   "cell_type": "code",
   "execution_count": null,
   "metadata": {
    "colab": {
     "base_uri": "https://localhost:8080/"
    },
    "id": "fRdhl1NUPfgO",
    "outputId": "b63ee18b-5477-4d5a-dd77-1fea2fecedc7"
   },
   "outputs": [],
   "source": [
    "test_code = vertex_code_R(16,20)\n",
    "generate_graph_R(test_code,40)"
   ]
  },
  {
   "cell_type": "code",
   "execution_count": null,
   "metadata": {
    "colab": {
     "base_uri": "https://localhost:8080/"
    },
    "id": "rmZM-qLsR-YO",
    "outputId": "6acc9917-9aab-4926-e7c8-646f624b7de1"
   },
   "outputs": [],
   "source": [
    "def generate_graph_R(codebook, num_edges):\n",
    "  n,d = codebook.shape[0], codebook.shape[1]\n",
    "  graph = 0\n",
    "  for i in range(num_edges):\n",
    "    d_ix, c_ix = rand.randint(0,n-1), rand.randint(0,n-1)\n",
    "    dom, cod = codebook[d_ix], codebook[c_ix]\n",
    "    graph  = graph + (dom*cod)\n",
    "  return(graph)"
   ]
  },
  {
   "cell_type": "code",
   "execution_count": null,
   "metadata": {
    "id": "oqV3Va0cSc9v"
   },
   "outputs": [],
   "source": [
    "codebook = test_code"
   ]
  },
  {
   "cell_type": "code",
   "execution_count": null,
   "metadata": {
    "id": "2wLt2G8USugm"
   },
   "outputs": [],
   "source": [
    "n,d = codebook.shape[0], codebook.shape[1]\n"
   ]
  },
  {
   "cell_type": "code",
   "execution_count": null,
   "metadata": {
    "id": "gklwXg81SvzP"
   },
   "outputs": [],
   "source": [
    "graph = 0\n",
    "for i in range(4):\n",
    "  d_ix, c_ix = rand.randint(0,n-1), rand.randint(0,n-1)\n",
    "  dom, cod = codebook[d_ix], codebook[c_ix]\n",
    "  graph  = graph + (dom*cod)\n"
   ]
  },
  {
   "cell_type": "code",
   "execution_count": null,
   "metadata": {
    "id": "H8xe7Ll7SwXX"
   },
   "outputs": [],
   "source": [
    "  d_ix, c_ix = rand.randint(0,n-1), rand.randint(0,n-1)\n",
    "  dom, cod = codebook[d_ix], codebook[c_ix]"
   ]
  },
  {
   "cell_type": "code",
   "execution_count": null,
   "metadata": {
    "colab": {
     "base_uri": "https://localhost:8080/"
    },
    "id": "_qJP-6XLS3Xf",
    "outputId": "ebb0a243-d5fc-47fe-e664-2cc2f5e00047"
   },
   "outputs": [],
   "source": [
    "graph"
   ]
  },
  {
   "cell_type": "code",
   "execution_count": null,
   "metadata": {
    "id": "ViJ6EKkOS383"
   },
   "outputs": [],
   "source": [
    "128**2/16**2"
   ]
  },
  {
   "cell_type": "code",
   "execution_count": null,
   "metadata": {},
   "outputs": [],
   "source": []
  }
 ],
 "metadata": {
  "colab": {
   "authorship_tag": "ABX9TyOIWSyfCw/tiEfJ0TKaRgNz",
   "include_colab_link": true,
   "name": "Untitled1.ipynb",
   "provenance": []
  },
  "kernelspec": {
   "display_name": "Python 3 (ipykernel)",
   "language": "python",
   "name": "python3"
  },
  "language_info": {
   "codemirror_mode": {
    "name": "ipython",
    "version": 3
   },
   "file_extension": ".py",
   "mimetype": "text/x-python",
   "name": "python",
   "nbconvert_exporter": "python",
   "pygments_lexer": "ipython3",
   "version": "3.11.3"
  }
 },
 "nbformat": 4,
 "nbformat_minor": 1
}
