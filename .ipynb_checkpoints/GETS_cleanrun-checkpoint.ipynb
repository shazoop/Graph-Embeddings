{
 "cells": [
  {
   "cell_type": "markdown",
   "metadata": {
    "colab_type": "text",
    "id": "view-in-github"
   },
   "source": [
    "<a href=\"https://colab.research.google.com/github/shazoop/KG-Embeddings/blob/main/Paper2_experiments.ipynb\" target=\"_parent\"><img src=\"https://colab.research.google.com/assets/colab-badge.svg\" alt=\"Open In Colab\"/></a>"
   ]
  },
  {
   "cell_type": "code",
   "execution_count": 1,
   "metadata": {},
   "outputs": [],
   "source": [
    "import GETS_auxfun as gs"
   ]
  },
  {
   "cell_type": "code",
   "execution_count": 2,
   "metadata": {},
   "outputs": [],
   "source": [
    "import numpy as np"
   ]
  },
  {
   "cell_type": "code",
   "execution_count": 3,
   "metadata": {
    "id": "JZgIcCu44crk"
   },
   "outputs": [],
   "source": [
    "book_size = [32,64,128,264,512,1024,2048]\n",
    "edge_list = [8,16,32,48,64,128,256,512]"
   ]
  },
  {
   "cell_type": "code",
   "execution_count": 4,
   "metadata": {
    "id": "Avfx_o1WI4cG"
   },
   "outputs": [],
   "source": [
    "vertex_dim = 16\n",
    "vertex_num = 64\n",
    "num_edge = 64\n",
    "num_trials = 200"
   ]
  },
  {
   "cell_type": "code",
   "execution_count": 5,
   "metadata": {
    "id": "TKLPycWRI7Kt"
   },
   "outputs": [],
   "source": [
    "#Effect of codebook size and resampling.\n",
    "\n",
    "cor_edgeQ, incor_edgeQ, cor_compQ, incor_compQ = gs.testing_code(vertex_dim, vertex_num, book_size, num_edge, num_trials)"
   ]
  },
  {
   "cell_type": "code",
   "execution_count": 6,
   "metadata": {},
   "outputs": [],
   "source": [
    "corEQ = np.array(cor_edgeQ)\n",
    "incorEQ = np.array(incor_edgeQ)\n",
    "corEC = np.array(cor_compQ)\n",
    "incorEC = np.array(incor_compQ)"
   ]
  },
  {
   "cell_type": "code",
   "execution_count": 7,
   "metadata": {},
   "outputs": [
    {
     "data": {
      "text/plain": [
       "array([[0.98859032, 0.60128828],\n",
       "       [1.0379875 , 0.60045028],\n",
       "       [0.97056772, 0.5409006 ],\n",
       "       [0.98883782, 0.51272195],\n",
       "       [1.02544921, 0.53201436],\n",
       "       [1.0302388 , 0.50219854],\n",
       "       [1.02108517, 0.50882562]])"
      ]
     },
     "execution_count": 7,
     "metadata": {},
     "output_type": "execute_result"
    }
   ],
   "source": [
    "corEQ"
   ]
  },
  {
   "cell_type": "code",
   "execution_count": 8,
   "metadata": {},
   "outputs": [
    {
     "data": {
      "text/plain": [
       "array([[-0.11251845,  0.63639824],\n",
       "       [ 0.06387201,  0.6049951 ],\n",
       "       [-0.02494115,  0.53828698],\n",
       "       [-0.0129643 ,  0.48834097],\n",
       "       [ 0.0263833 ,  0.51271922],\n",
       "       [-0.0290397 ,  0.51485501],\n",
       "       [-0.05563052,  0.5165636 ]])"
      ]
     },
     "execution_count": 8,
     "metadata": {},
     "output_type": "execute_result"
    }
   ],
   "source": [
    "incorEQ"
   ]
  },
  {
   "cell_type": "code",
   "execution_count": 9,
   "metadata": {},
   "outputs": [
    {
     "data": {
      "text/plain": [
       "array([[1.03234235, 1.13591647],\n",
       "       [1.26019157, 1.67816798],\n",
       "       [1.12969808, 1.3049548 ],\n",
       "       [1.05670612, 1.32074704],\n",
       "       [1.08767007, 1.28188538],\n",
       "       [0.78494614, 1.16798972],\n",
       "       [1.04692708, 1.2103607 ]])"
      ]
     },
     "execution_count": 9,
     "metadata": {},
     "output_type": "execute_result"
    }
   ],
   "source": [
    "corEC"
   ]
  },
  {
   "cell_type": "code",
   "execution_count": 10,
   "metadata": {},
   "outputs": [
    {
     "data": {
      "text/plain": [
       "array([[ 0.03331837,  0.92257778],\n",
       "       [ 0.09837427,  1.40373541],\n",
       "       [ 0.04500613,  0.98598081],\n",
       "       [-0.03434021,  1.06232756],\n",
       "       [ 0.03792919,  1.02820252],\n",
       "       [ 0.03506207,  1.03299253],\n",
       "       [ 0.0546042 ,  0.94602087]])"
      ]
     },
     "execution_count": 10,
     "metadata": {},
     "output_type": "execute_result"
    }
   ],
   "source": [
    "incorEC"
   ]
  },
  {
   "cell_type": "code",
   "execution_count": 11,
   "metadata": {},
   "outputs": [],
   "source": [
    "cor_edgeQ, incor_edgeQ, cor_compQ, incor_compQ = gs.testing(vertex_dim, vertex_num, edge_list, num_trials)"
   ]
  },
  {
   "cell_type": "code",
   "execution_count": 12,
   "metadata": {},
   "outputs": [],
   "source": [
    "corEQ = np.array(cor_edgeQ)\n",
    "incorEQ = np.array(incor_edgeQ)\n",
    "corEC = np.array(cor_compQ)\n",
    "incorEC = np.array(incor_compQ)"
   ]
  },
  {
   "cell_type": "code",
   "execution_count": 13,
   "metadata": {},
   "outputs": [
    {
     "data": {
      "text/plain": [
       "array([[1.01614776, 0.21649735],\n",
       "       [0.97889575, 0.30132812],\n",
       "       [1.05320328, 0.41570421],\n",
       "       [0.99902404, 0.48334731],\n",
       "       [1.02674542, 0.5593497 ],\n",
       "       [1.01295226, 0.77585924],\n",
       "       [1.1448135 , 1.21425455],\n",
       "       [1.05574106, 1.77829515]])"
      ]
     },
     "execution_count": 13,
     "metadata": {},
     "output_type": "execute_result"
    }
   ],
   "source": [
    "corEQ"
   ]
  },
  {
   "cell_type": "code",
   "execution_count": 14,
   "metadata": {},
   "outputs": [
    {
     "data": {
      "text/plain": [
       "array([[ 0.01391945,  0.22897162],\n",
       "       [ 0.01400506,  0.30002878],\n",
       "       [ 0.03791419,  0.38084503],\n",
       "       [ 0.00718011,  0.54516575],\n",
       "       [ 0.01344   ,  0.58637702],\n",
       "       [ 0.08251555,  0.85759067],\n",
       "       [ 0.00618647,  1.25662949],\n",
       "       [-0.13260405,  1.80704605]])"
      ]
     },
     "execution_count": 14,
     "metadata": {},
     "output_type": "execute_result"
    }
   ],
   "source": [
    "incorEQ"
   ]
  },
  {
   "cell_type": "code",
   "execution_count": 15,
   "metadata": {},
   "outputs": [
    {
     "data": {
      "text/plain": [
       "array([[ 1.05170268,  0.36313276],\n",
       "       [ 1.0958923 ,  0.53834864],\n",
       "       [ 1.11198267,  0.9058806 ],\n",
       "       [ 1.08906956,  1.13380243],\n",
       "       [ 1.19531873,  1.53477253],\n",
       "       [ 1.04295093,  3.12062457],\n",
       "       [ 2.5321551 ,  6.59054805],\n",
       "       [ 7.91714425, 14.91903542]])"
      ]
     },
     "execution_count": 15,
     "metadata": {},
     "output_type": "execute_result"
    }
   ],
   "source": [
    "corEC"
   ]
  },
  {
   "cell_type": "code",
   "execution_count": 16,
   "metadata": {},
   "outputs": [
    {
     "data": {
      "text/plain": [
       "array([[ 5.91602314e-03,  1.32998127e-01],\n",
       "       [-3.14175379e-04,  2.88280355e-01],\n",
       "       [ 6.86088918e-02,  5.91344674e-01],\n",
       "       [-2.33770580e-02,  9.66273944e-01],\n",
       "       [ 1.07047584e-01,  1.34347381e+00],\n",
       "       [ 3.22285898e-01,  2.61365246e+00],\n",
       "       [ 5.40614970e-01,  5.94470612e+00],\n",
       "       [ 3.86772596e+00,  1.43643855e+01]])"
      ]
     },
     "execution_count": 16,
     "metadata": {},
     "output_type": "execute_result"
    }
   ],
   "source": [
    "incorEC"
   ]
  },
  {
   "cell_type": "code",
   "execution_count": 61,
   "metadata": {},
   "outputs": [
    {
     "data": {
      "text/plain": [
       "64.0"
      ]
     },
     "execution_count": 61,
     "metadata": {},
     "output_type": "execute_result"
    }
   ],
   "source": [
    "16**(3/2)"
   ]
  },
  {
   "cell_type": "code",
   "execution_count": 62,
   "metadata": {},
   "outputs": [
    {
     "data": {
      "text/plain": [
       "16.0"
      ]
     },
     "execution_count": 62,
     "metadata": {},
     "output_type": "execute_result"
    }
   ],
   "source": [
    "np.sqrt(16**2)"
   ]
  },
  {
   "cell_type": "code",
   "execution_count": 83,
   "metadata": {},
   "outputs": [],
   "source": [
    "#make vertex dim 16^2, so RS embeddings have same size as TS\n",
    "vertex_dim = 16**2\n",
    "vertex_num = 64\n",
    "# num_edge = 64\n",
    "num_trials = 200"
   ]
  },
  {
   "cell_type": "code",
   "execution_count": 84,
   "metadata": {},
   "outputs": [
    {
     "data": {
      "text/plain": [
       "<module 'GETS_auxfun' from 'C:\\\\Users\\\\frank\\\\OneDrive\\\\Documents\\\\GitHub\\\\KG-Embeddings\\\\GETS_auxfun.py'>"
      ]
     },
     "execution_count": 84,
     "metadata": {},
     "output_type": "execute_result"
    }
   ],
   "source": [
    "import importlib\n",
    "importlib.reload(gs)"
   ]
  },
  {
   "cell_type": "code",
   "execution_count": 85,
   "metadata": {
    "id": "HhNYg27dJHY3"
   },
   "outputs": [],
   "source": [
    "cor_edgeQ_R, incor_edgeQ_R, cor_compQ_R, incor_compQ_R = gs.testing_R(vertex_dim, vertex_num, edge_list, num_trials)"
   ]
  },
  {
   "cell_type": "code",
   "execution_count": 86,
   "metadata": {},
   "outputs": [],
   "source": [
    "corEQR = np.array(cor_edgeQ_R)\n",
    "incorEQR = np.array(incor_edgeQ_R)\n",
    "corECR = np.array(cor_compQ_R)\n",
    "incorECR = np.array(incor_compQ_R)"
   ]
  },
  {
   "cell_type": "code",
   "execution_count": 87,
   "metadata": {},
   "outputs": [],
   "source": [
    "#divid by 16^2 to normalize results, make it same order of mag as TS"
   ]
  },
  {
   "cell_type": "code",
   "execution_count": 88,
   "metadata": {},
   "outputs": [
    {
     "data": {
      "text/plain": [
       "array([[1.00691406, 0.16528041],\n",
       "       [0.97914062, 0.24088246],\n",
       "       [0.99746094, 0.35413377],\n",
       "       [1.03601563, 0.44323583],\n",
       "       [0.97832031, 0.58305983],\n",
       "       [1.153125  , 0.80154613],\n",
       "       [1.30464844, 1.16548034],\n",
       "       [1.60699219, 1.92463712]])"
      ]
     },
     "execution_count": 88,
     "metadata": {},
     "output_type": "execute_result"
    }
   ],
   "source": [
    "corEQR/16**2"
   ]
  },
  {
   "cell_type": "code",
   "execution_count": 89,
   "metadata": {},
   "outputs": [
    {
     "data": {
      "text/plain": [
       "array([[1.06250000e-02, 1.71350478e-01],\n",
       "       [1.58203125e-02, 2.80482283e-01],\n",
       "       [2.07031250e-03, 3.50054472e-01],\n",
       "       [9.50390625e-02, 4.36375352e-01],\n",
       "       [4.91015625e-02, 6.20299894e-01],\n",
       "       [1.54101563e-01, 6.47071197e-01],\n",
       "       [3.00859375e-01, 1.48447368e+00],\n",
       "       [6.24023438e-01, 2.10762788e+00]])"
      ]
     },
     "execution_count": 89,
     "metadata": {},
     "output_type": "execute_result"
    }
   ],
   "source": [
    "incorEQR/16**2"
   ]
  },
  {
   "cell_type": "code",
   "execution_count": 90,
   "metadata": {},
   "outputs": [
    {
     "data": {
      "text/plain": [
       "array([[ 2.00429688,  0.91703368],\n",
       "       [ 2.03761719,  1.72939002],\n",
       "       [ 2.459375  ,  3.43104881],\n",
       "       [ 2.13117188,  5.06002276],\n",
       "       [ 3.31867188,  6.83354912],\n",
       "       [ 3.15675781, 14.26611415],\n",
       "       [14.4540625 , 33.14851239],\n",
       "       [29.36652344, 86.41785374]])"
      ]
     },
     "execution_count": 90,
     "metadata": {},
     "output_type": "execute_result"
    }
   ],
   "source": [
    "corECR/16**2"
   ]
  },
  {
   "cell_type": "code",
   "execution_count": 91,
   "metadata": {},
   "outputs": [
    {
     "data": {
      "text/plain": [
       "array([[ 2.40234375e-02,  6.85304082e-01],\n",
       "       [ 1.48984375e-01,  1.53997683e+00],\n",
       "       [ 4.25273438e-01,  3.24399409e+00],\n",
       "       [-1.25468750e-01,  4.98454935e+00],\n",
       "       [ 4.30898438e-01,  7.16373138e+00],\n",
       "       [ 1.42746094e+00,  1.39683029e+01],\n",
       "       [ 8.10929688e+00,  3.04195070e+01],\n",
       "       [ 1.81691797e+01,  8.86332054e+01]])"
      ]
     },
     "execution_count": 91,
     "metadata": {},
     "output_type": "execute_result"
    }
   ],
   "source": [
    "incorECR/16**2"
   ]
  },
  {
   "cell_type": "code",
   "execution_count": 60,
   "metadata": {},
   "outputs": [
    {
     "data": {
      "text/plain": [
       "(256,)"
      ]
     },
     "execution_count": 60,
     "metadata": {},
     "output_type": "execute_result"
    }
   ],
   "source": [
    "gs.vertex_code_R(vertex_dim,1)[0].shape"
   ]
  },
  {
   "cell_type": "code",
   "execution_count": 28,
   "metadata": {
    "colab": {
     "base_uri": "https://localhost:8080/",
     "height": 322
    },
    "id": "b6PnQr3IJat3",
    "outputId": "035d62da-1409-4ed6-b7ad-24fe21473108"
   },
   "outputs": [],
   "source": [
    "# fig1, axs = plt.subplots(1,2)\n",
    "# fig1.suptitle('Edge Query')\n",
    "# fig1.text(0.5, 0.035, '# of edges', ha='center')\n",
    "# fig1.text(0.04, 0.5, 'score deviation', va='center', rotation='vertical')\n",
    "# axs[0].plot(edge_list,cor_edgeQ_R, marker = 'o')\n",
    "# axs[0].axhline(y=256, color = 'r', linestyle = '-')\n",
    "# axs[0].set_title('Correct')\n",
    "# axs[1].plot(edge_list,incor_edgeQ_R, marker = 'o')\n",
    "# axs[1].axhline(y=0, color = 'r', linestyle = '-')\n",
    "# axs[1].set_title('Incorrect')"
   ]
  },
  {
   "cell_type": "code",
   "execution_count": 29,
   "metadata": {
    "colab": {
     "base_uri": "https://localhost:8080/",
     "height": 322
    },
    "id": "j_B3ZLdVJkyX",
    "outputId": "f9147792-eb1d-4845-9efa-82af6c508908"
   },
   "outputs": [],
   "source": [
    "# fig1, axs = plt.subplots(1,2)\n",
    "# fig1.suptitle('Edge Composition')\n",
    "# fig1.text(0.5, 0.035, '# of edges', ha='center')\n",
    "# fig1.text(0.04, 0.5, 'score deviation', va='center', rotation='vertical')\n",
    "# axs[0].plot(edge_list,cor_compQ_R, marker = 'o')\n",
    "# axs[0].axhline(y=256, color = 'r', linestyle = '-')\n",
    "# axs[0].set_title('Correct')\n",
    "# axs[1].plot(edge_list,incor_compQ_R, marker = 'o')\n",
    "# axs[1].axhline(y=0, color = 'r', linestyle = '-')\n",
    "# axs[1].set_title('Incorrect')"
   ]
  }
 ],
 "metadata": {
  "colab": {
   "authorship_tag": "ABX9TyOIWSyfCw/tiEfJ0TKaRgNz",
   "include_colab_link": true,
   "name": "Untitled1.ipynb",
   "provenance": []
  },
  "kernelspec": {
   "display_name": "Python 3 (ipykernel)",
   "language": "python",
   "name": "python3"
  },
  "language_info": {
   "codemirror_mode": {
    "name": "ipython",
    "version": 3
   },
   "file_extension": ".py",
   "mimetype": "text/x-python",
   "name": "python",
   "nbconvert_exporter": "python",
   "pygments_lexer": "ipython3",
   "version": "3.11.3"
  }
 },
 "nbformat": 4,
 "nbformat_minor": 1
}
